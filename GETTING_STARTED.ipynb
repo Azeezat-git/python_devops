{
  "nbformat": 4,
  "nbformat_minor": 0,
  "metadata": {
    "colab": {
      "provenance": [],
      "authorship_tag": "ABX9TyM1BqvaP36ABfJrnfFv8lyX",
      "include_colab_link": true
    },
    "kernelspec": {
      "name": "python3",
      "display_name": "Python 3"
    },
    "language_info": {
      "name": "python"
    }
  },
  "cells": [
    {
      "cell_type": "markdown",
      "metadata": {
        "id": "view-in-github",
        "colab_type": "text"
      },
      "source": [
        "<a href=\"https://colab.research.google.com/github/Azeezat-git/python_devops/blob/main/GETTING_STARTED.ipynb\" target=\"_parent\"><img src=\"https://colab.research.google.com/assets/colab-badge.svg\" alt=\"Open In Colab\"/></a>"
      ]
    },
    {
      "cell_type": "code",
      "execution_count": null,
      "metadata": {
        "id": "QFk_PRinaggl"
      },
      "outputs": [],
      "source": []
    },
    {
      "cell_type": "code",
      "source": [
        "fruit = [\"apple\", \"orange\", \"lemon\", \"pear\"]\n",
        "\n",
        "for f in fruit:\n",
        "    print(f\"I love the fruit {f}\")\n",
        "\n",
        "\n"
      ],
      "metadata": {
        "colab": {
          "base_uri": "https://localhost:8080/"
        },
        "id": "JT9j5gTgasyt",
        "outputId": "8f1168ec-fc32-4b2e-ba3f-3bbbe6ba65a9"
      },
      "execution_count": 3,
      "outputs": [
        {
          "output_type": "stream",
          "name": "stdout",
          "text": [
            "I love the fruit apple\n",
            "I love the fruit orange\n",
            "I love the fruit lemon\n",
            "I love the fruit pear\n"
          ]
        }
      ]
    },
    {
      "cell_type": "code",
      "source": [
        "meal = {\n",
        "    \"breakfast\": \"coffee\",\n",
        "    \"lunch\": \"salad\",\n",
        "    \"dinner\": \"rice and beans\"\n",
        "}\n",
        "\n",
        "# print(meal.items())\n",
        "\n",
        "for key,value in meal.items():\n",
        "    print(f\"This meal - {key}, is when i like to consume {value}\")"
      ],
      "metadata": {
        "colab": {
          "base_uri": "https://localhost:8080/"
        },
        "id": "UcFY-cbNc1ki",
        "outputId": "2978f482-81ef-4956-b5a1-3ffca89631b6"
      },
      "execution_count": 4,
      "outputs": [
        {
          "output_type": "stream",
          "name": "stdout",
          "text": [
            "This meal - breakfast, is when i like to consume coffee\n",
            "This meal - lunch, is when i like to consume salad\n",
            "This meal - dinner, is when i like to consume rice and beans\n"
          ]
        }
      ]
    }
  ]
}